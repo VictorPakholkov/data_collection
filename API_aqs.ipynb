{
 "cells": [
  {
   "cell_type": "code",
   "execution_count": 2,
   "id": "56c5290c",
   "metadata": {},
   "outputs": [],
   "source": [
    "import pandas as pd\n",
    "import numpy as np\n",
    "import requests"
   ]
  },
  {
   "cell_type": "markdown",
   "id": "c48bda8b",
   "metadata": {},
   "source": [
    "The dataset selected initially is \"Air Quality Annual Summary\" from ..."
   ]
  },
  {
   "cell_type": "code",
   "execution_count": null,
   "id": "5b70bc22",
   "metadata": {},
   "outputs": [],
   "source": [
    "!kaggle datasets download -d epa/air-quality"
   ]
  },
  {
   "cell_type": "code",
   "execution_count": 5,
   "id": "b5f55941",
   "metadata": {},
   "outputs": [
    {
     "name": "stderr",
     "output_type": "stream",
     "text": [
      "C:\\Users\\Victo\\AppData\\Local\\Temp\\ipykernel_4552\\565861268.py:1: DtypeWarning: Columns (0) have mixed types. Specify dtype option on import or set low_memory=False.\n",
      "  data_historic = pd.read_csv(\"C:\\\\Users\\\\Victo\\\\Downloads\\\\epa_air_quality_annual_summary.csv\")\n"
     ]
    },
    {
     "data": {
      "text/html": [
       "<div>\n",
       "<style scoped>\n",
       "    .dataframe tbody tr th:only-of-type {\n",
       "        vertical-align: middle;\n",
       "    }\n",
       "\n",
       "    .dataframe tbody tr th {\n",
       "        vertical-align: top;\n",
       "    }\n",
       "\n",
       "    .dataframe thead th {\n",
       "        text-align: right;\n",
       "    }\n",
       "</style>\n",
       "<table border=\"1\" class=\"dataframe\">\n",
       "  <thead>\n",
       "    <tr style=\"text-align: right;\">\n",
       "      <th></th>\n",
       "      <th>state_code</th>\n",
       "      <th>county_code</th>\n",
       "      <th>site_num</th>\n",
       "      <th>parameter_code</th>\n",
       "      <th>poc</th>\n",
       "      <th>latitude</th>\n",
       "      <th>longitude</th>\n",
       "      <th>datum</th>\n",
       "      <th>parameter_name</th>\n",
       "      <th>sample_duration</th>\n",
       "      <th>...</th>\n",
       "      <th>seventy_five_percentile</th>\n",
       "      <th>fifty_percentile</th>\n",
       "      <th>ten_percentile</th>\n",
       "      <th>local_site_name</th>\n",
       "      <th>address</th>\n",
       "      <th>state_name</th>\n",
       "      <th>county_name</th>\n",
       "      <th>city_name</th>\n",
       "      <th>cbsa_name</th>\n",
       "      <th>date_of_last_change</th>\n",
       "    </tr>\n",
       "  </thead>\n",
       "  <tbody>\n",
       "    <tr>\n",
       "      <th>0</th>\n",
       "      <td>20</td>\n",
       "      <td>57</td>\n",
       "      <td>1</td>\n",
       "      <td>82134</td>\n",
       "      <td>1</td>\n",
       "      <td>37.771964</td>\n",
       "      <td>-100.018190</td>\n",
       "      <td>WGS84</td>\n",
       "      <td>Molybdenum PM10 STP</td>\n",
       "      <td>24 HOUR</td>\n",
       "      <td>...</td>\n",
       "      <td>0.00000</td>\n",
       "      <td>0.0</td>\n",
       "      <td>0.0</td>\n",
       "      <td>DODGE CITY</td>\n",
       "      <td>PUMP STATION 2100 1ST AVE</td>\n",
       "      <td>Kansas</td>\n",
       "      <td>Ford</td>\n",
       "      <td>Dodge City</td>\n",
       "      <td>Dodge City KS</td>\n",
       "      <td>2012-08-11</td>\n",
       "    </tr>\n",
       "    <tr>\n",
       "      <th>1</th>\n",
       "      <td>18</td>\n",
       "      <td>163</td>\n",
       "      <td>12</td>\n",
       "      <td>42401</td>\n",
       "      <td>1</td>\n",
       "      <td>38.021727</td>\n",
       "      <td>-87.569458</td>\n",
       "      <td>WGS84</td>\n",
       "      <td>Sulfur dioxide</td>\n",
       "      <td>3-HR BLK AVG</td>\n",
       "      <td>...</td>\n",
       "      <td>3.60000</td>\n",
       "      <td>1.3</td>\n",
       "      <td>0.0</td>\n",
       "      <td>Evansville CAAP</td>\n",
       "      <td>425 WEST MILL ROAD/ FIRE STATION #17</td>\n",
       "      <td>Indiana</td>\n",
       "      <td>Vanderburgh</td>\n",
       "      <td>Evansville</td>\n",
       "      <td>Evansville IN-KY</td>\n",
       "      <td>2013-02-16</td>\n",
       "    </tr>\n",
       "    <tr>\n",
       "      <th>2</th>\n",
       "      <td>40</td>\n",
       "      <td>31</td>\n",
       "      <td>9000</td>\n",
       "      <td>88152</td>\n",
       "      <td>1</td>\n",
       "      <td>34.732404</td>\n",
       "      <td>-98.713351</td>\n",
       "      <td>WGS84</td>\n",
       "      <td>Phosphorus PM2.5 LC</td>\n",
       "      <td>24 HOUR</td>\n",
       "      <td>...</td>\n",
       "      <td>0.00000</td>\n",
       "      <td>0.0</td>\n",
       "      <td>0.0</td>\n",
       "      <td>NaN</td>\n",
       "      <td>Wichita Mountains</td>\n",
       "      <td>Oklahoma</td>\n",
       "      <td>Comanche</td>\n",
       "      <td>NaN</td>\n",
       "      <td>Lawton OK</td>\n",
       "      <td>2016-02-26</td>\n",
       "    </tr>\n",
       "    <tr>\n",
       "      <th>3</th>\n",
       "      <td>32</td>\n",
       "      <td>3</td>\n",
       "      <td>561</td>\n",
       "      <td>42601</td>\n",
       "      <td>1</td>\n",
       "      <td>36.163959</td>\n",
       "      <td>-115.113916</td>\n",
       "      <td>WGS84</td>\n",
       "      <td>Nitric oxide (NO)</td>\n",
       "      <td>1 HOUR</td>\n",
       "      <td>...</td>\n",
       "      <td>18.80000</td>\n",
       "      <td>0.9</td>\n",
       "      <td>0.0</td>\n",
       "      <td>Sunrise Acres</td>\n",
       "      <td>2501 SUNRISE AVENUE</td>\n",
       "      <td>Nevada</td>\n",
       "      <td>Clark</td>\n",
       "      <td>Las Vegas</td>\n",
       "      <td>Las Vegas-Henderson-Paradise NV</td>\n",
       "      <td>2015-03-20</td>\n",
       "    </tr>\n",
       "    <tr>\n",
       "      <th>4</th>\n",
       "      <td>13</td>\n",
       "      <td>127</td>\n",
       "      <td>3001</td>\n",
       "      <td>12154</td>\n",
       "      <td>1</td>\n",
       "      <td>31.185187</td>\n",
       "      <td>-81.485166</td>\n",
       "      <td>WGS84</td>\n",
       "      <td>Selenium (TSP) STP</td>\n",
       "      <td>24 HOUR</td>\n",
       "      <td>...</td>\n",
       "      <td>0.00064</td>\n",
       "      <td>0.0</td>\n",
       "      <td>0.0</td>\n",
       "      <td>NaN</td>\n",
       "      <td>BRUNSWICK COASTAL COLLEGE</td>\n",
       "      <td>Georgia</td>\n",
       "      <td>Glynn</td>\n",
       "      <td>Brunswick</td>\n",
       "      <td>Brunswick GA</td>\n",
       "      <td>2015-07-22</td>\n",
       "    </tr>\n",
       "  </tbody>\n",
       "</table>\n",
       "<p>5 rows × 55 columns</p>\n",
       "</div>"
      ],
      "text/plain": [
       "  state_code  county_code  site_num  parameter_code  poc   latitude  \\\n",
       "0         20           57         1           82134    1  37.771964   \n",
       "1         18          163        12           42401    1  38.021727   \n",
       "2         40           31      9000           88152    1  34.732404   \n",
       "3         32            3       561           42601    1  36.163959   \n",
       "4         13          127      3001           12154    1  31.185187   \n",
       "\n",
       "    longitude  datum       parameter_name sample_duration  ...  \\\n",
       "0 -100.018190  WGS84  Molybdenum PM10 STP         24 HOUR  ...   \n",
       "1  -87.569458  WGS84       Sulfur dioxide    3-HR BLK AVG  ...   \n",
       "2  -98.713351  WGS84  Phosphorus PM2.5 LC         24 HOUR  ...   \n",
       "3 -115.113916  WGS84    Nitric oxide (NO)          1 HOUR  ...   \n",
       "4  -81.485166  WGS84   Selenium (TSP) STP         24 HOUR  ...   \n",
       "\n",
       "  seventy_five_percentile fifty_percentile ten_percentile  local_site_name  \\\n",
       "0                 0.00000              0.0            0.0       DODGE CITY   \n",
       "1                 3.60000              1.3            0.0  Evansville CAAP   \n",
       "2                 0.00000              0.0            0.0              NaN   \n",
       "3                18.80000              0.9            0.0    Sunrise Acres   \n",
       "4                 0.00064              0.0            0.0              NaN   \n",
       "\n",
       "                                address state_name  county_name   city_name  \\\n",
       "0             PUMP STATION 2100 1ST AVE     Kansas         Ford  Dodge City   \n",
       "1  425 WEST MILL ROAD/ FIRE STATION #17    Indiana  Vanderburgh  Evansville   \n",
       "2                     Wichita Mountains   Oklahoma     Comanche         NaN   \n",
       "3                   2501 SUNRISE AVENUE     Nevada        Clark   Las Vegas   \n",
       "4             BRUNSWICK COASTAL COLLEGE    Georgia        Glynn   Brunswick   \n",
       "\n",
       "                         cbsa_name  date_of_last_change  \n",
       "0                    Dodge City KS           2012-08-11  \n",
       "1                 Evansville IN-KY           2013-02-16  \n",
       "2                        Lawton OK           2016-02-26  \n",
       "3  Las Vegas-Henderson-Paradise NV           2015-03-20  \n",
       "4                     Brunswick GA           2015-07-22  \n",
       "\n",
       "[5 rows x 55 columns]"
      ]
     },
     "execution_count": 5,
     "metadata": {},
     "output_type": "execute_result"
    }
   ],
   "source": [
    "data_historic = pd.read_csv(\"C:\\\\Users\\\\Victo\\\\Downloads\\\\epa_air_quality_annual_summary.csv\")\n",
    "data_historic.head(5)"
   ]
  },
  {
   "cell_type": "code",
   "execution_count": 7,
   "id": "eb13a409",
   "metadata": {},
   "outputs": [
    {
     "data": {
      "text/plain": [
       "(2038710, 55)"
      ]
     },
     "execution_count": 7,
     "metadata": {},
     "output_type": "execute_result"
    }
   ],
   "source": [
    "data_historic.shape"
   ]
  },
  {
   "cell_type": "markdown",
   "id": "622a04bd",
   "metadata": {},
   "source": [
    "For possible machine learning tasks I decided to narrow down columns \n",
    "\n",
    "I selected\n",
    "\n"
   ]
  },
  {
   "cell_type": "code",
   "execution_count": 10,
   "id": "6a9b1c56",
   "metadata": {},
   "outputs": [
    {
     "data": {
      "text/plain": [
       "(166005, 55)"
      ]
     },
     "execution_count": 10,
     "metadata": {},
     "output_type": "execute_result"
    }
   ],
   "source": [
    "filtered_historic = data_historic[data_historic['parameter_name'] == 'Ozone'] \n",
    "filtered_historic.shape"
   ]
  },
  {
   "cell_type": "markdown",
   "id": "df735839",
   "metadata": {},
   "source": [
    "Now I would use Air Quality System (AQS) API to enhance..."
   ]
  },
  {
   "cell_type": "code",
   "execution_count": 27,
   "id": "801dea2d",
   "metadata": {},
   "outputs": [
    {
     "data": {
      "text/plain": [
       "(0, 56)"
      ]
     },
     "execution_count": 27,
     "metadata": {},
     "output_type": "execute_result"
    }
   ],
   "source": [
    "data_modern = data_historic.drop(data_historic.index)\n",
    "data_modern = pd.DataFrame(columns=['state_code','county_code','site_number','parameter_code','poc','latitude','longitude', 'datum',\n",
    "                                   'parameter', 'sample_duration_code', 'sample_duration', 'pollutant_standard', 'metric_used',\n",
    "                                   'method', 'year', 'units_of_measure', 'event_type', 'observation_count', 'observation_percent',\n",
    "                                   'validity_indicator', 'valid_day_count', 'required_day_count', 'exceptional_data_count',\n",
    "                                   'null_observation_count', 'primary_exceedance_count', 'secondary_exceedance_count',\n",
    "                                   'certification_indicator', 'arithmetic_mean', 'standard_deviation', 'first_max_value', 'first_max_datetime',\n",
    "                                   'second_max_value', 'second_max_datetime', 'third_max_value', 'third_max_datetime', 'fourth_max_value',\n",
    "                                   'fourth_max_datetime', 'first_max_nonoverlap_value', 'first_max_n_o_datetime', 'second_max_nonoverlap_value',\n",
    "                                   'second_max_n_o_datetime', 'ninety_ninth_percentile', 'ninety_eighth_percentile', 'ninety_fifth_percentile',\n",
    "                                   'ninetieth_percentile', 'seventy_fifth_percentile', 'fiftieth_percentile', 'tenth_percentile', 'local_site_name',\n",
    "                                   'site_address', 'state', 'county', 'city', 'cbsa_code', 'cbsa', 'date_of_last_change'])\n"
   ]
  },
  {
   "cell_type": "code",
   "execution_count": 11,
   "id": "9f2d6d0e",
   "metadata": {},
   "outputs": [],
   "source": [
    "key = 'sandgoose35'\n",
    "email = 'VictorPakholkov@outlook.com'\n",
    "base_url = 'https://aqs.epa.gov/data/api/annualData/'"
   ]
  },
  {
   "cell_type": "code",
   "execution_count": 19,
   "id": "b65c3a3e",
   "metadata": {},
   "outputs": [],
   "source": [
    "params = {\n",
    "    'email': email,\n",
    "    'key': key,\n",
    "    'param': '44201',  # Ozone parameter\n",
    "    'bdate': '20180101',  # year 2018\n",
    "    'edate': '20181212',  # year 2018\n",
    "    'state': '01',  # state 01\n",
    "}\n"
   ]
  },
  {
   "cell_type": "code",
   "execution_count": 20,
   "id": "f3f721e8",
   "metadata": {},
   "outputs": [],
   "source": [
    "response = requests.get(f'{base_url}byState', params=params)\n",
    "if response.status_code == 200:\n",
    "    data = response.json()\n",
    "    for data_entry in data['Data']:\n",
    "        data_to_append = pd.DataFrame([data_entry], columns=list(data_modern.columns))\n",
    "        data_modern = pd.concat([data_modern, data_to_append], ignore_index=True)\n",
    "else:\n",
    "    print(f\"API request failed with status code {response.status_code}\")\n",
    "    print(response.text)"
   ]
  },
  {
   "cell_type": "code",
   "execution_count": 28,
   "id": "22b3eb51",
   "metadata": {},
   "outputs": [],
   "source": []
  },
  {
   "cell_type": "code",
   "execution_count": 33,
   "id": "c8f2ff4e",
   "metadata": {},
   "outputs": [
    {
     "ename": "TypeError",
     "evalue": "'numpy.ndarray' object is not callable",
     "output_type": "error",
     "traceback": [
      "\u001b[1;31m---------------------------------------------------------------------------\u001b[0m",
      "\u001b[1;31mTypeError\u001b[0m                                 Traceback (most recent call last)",
      "Cell \u001b[1;32mIn[33], line 1\u001b[0m\n\u001b[1;32m----> 1\u001b[0m test_list \u001b[38;5;241m=\u001b[39m \u001b[38;5;28mlist\u001b[39m(data_modern[:\u001b[38;5;241m1\u001b[39m]\u001b[38;5;241m.\u001b[39mvalues())\n\u001b[0;32m      2\u001b[0m test_list\n",
      "\u001b[1;31mTypeError\u001b[0m: 'numpy.ndarray' object is not callable"
     ]
    }
   ],
   "source": []
  }
 ],
 "metadata": {
  "kernelspec": {
   "display_name": "Python 3 (ipykernel)",
   "language": "python",
   "name": "python3"
  },
  "language_info": {
   "codemirror_mode": {
    "name": "ipython",
    "version": 3
   },
   "file_extension": ".py",
   "mimetype": "text/x-python",
   "name": "python",
   "nbconvert_exporter": "python",
   "pygments_lexer": "ipython3",
   "version": "3.11.4"
  }
 },
 "nbformat": 4,
 "nbformat_minor": 5
}
