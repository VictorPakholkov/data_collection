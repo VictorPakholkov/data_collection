{
 "cells": [
  {
   "cell_type": "code",
   "execution_count": 1,
   "id": "1cbaca6b",
   "metadata": {},
   "outputs": [],
   "source": [
    "import pandas as pd\n",
    "import numpy as np"
   ]
  },
  {
   "cell_type": "code",
   "execution_count": 5,
   "id": "59d9c5b2",
   "metadata": {},
   "outputs": [],
   "source": [
    "data = pd.read_csv(\"C:\\\\Users\\\\Victo\\\\OneDrive\\\\Рабочий стол\\\\all_reviews.csv\")"
   ]
  },
  {
   "cell_type": "code",
   "execution_count": 6,
   "id": "0aa1c1fc",
   "metadata": {},
   "outputs": [
    {
     "data": {
      "text/plain": [
       "(337817, 10)"
      ]
     },
     "execution_count": 6,
     "metadata": {},
     "output_type": "execute_result"
    }
   ],
   "source": [
    "data.shape"
   ]
  },
  {
   "cell_type": "code",
   "execution_count": 7,
   "id": "989fdf7b",
   "metadata": {},
   "outputs": [
    {
     "data": {
      "text/html": [
       "<div>\n",
       "<style scoped>\n",
       "    .dataframe tbody tr th:only-of-type {\n",
       "        vertical-align: middle;\n",
       "    }\n",
       "\n",
       "    .dataframe tbody tr th {\n",
       "        vertical-align: top;\n",
       "    }\n",
       "\n",
       "    .dataframe thead th {\n",
       "        text-align: right;\n",
       "    }\n",
       "</style>\n",
       "<table border=\"1\" class=\"dataframe\">\n",
       "  <thead>\n",
       "    <tr style=\"text-align: right;\">\n",
       "      <th></th>\n",
       "      <th>movie_id</th>\n",
       "      <th>movie_title</th>\n",
       "      <th>review_id</th>\n",
       "      <th>review_author</th>\n",
       "      <th>review_title</th>\n",
       "      <th>review_date</th>\n",
       "      <th>review_rating</th>\n",
       "      <th>review_text</th>\n",
       "      <th>review_helpfulness_upvote</th>\n",
       "      <th>review_helpfulness_total</th>\n",
       "    </tr>\n",
       "  </thead>\n",
       "  <tbody>\n",
       "    <tr>\n",
       "      <th>0</th>\n",
       "      <td>tt0050083</td>\n",
       "      <td>12 Angry Men</td>\n",
       "      <td>rw0060044</td>\n",
       "      <td>uds3</td>\n",
       "      <td>The over-used term \"classic movie\" really com...</td>\n",
       "      <td>2002-08-12</td>\n",
       "      <td>NaN</td>\n",
       "      <td>This once-in-a-generation masterpiece simply h...</td>\n",
       "      <td>321</td>\n",
       "      <td>358</td>\n",
       "    </tr>\n",
       "    <tr>\n",
       "      <th>1</th>\n",
       "      <td>tt0050083</td>\n",
       "      <td>12 Angry Men</td>\n",
       "      <td>rw0060025</td>\n",
       "      <td>tedg</td>\n",
       "      <td>No Dissonance\\n</td>\n",
       "      <td>2001-04-26</td>\n",
       "      <td>NaN</td>\n",
       "      <td>This film deserves to be on anyone's list of t...</td>\n",
       "      <td>355</td>\n",
       "      <td>411</td>\n",
       "    </tr>\n",
       "    <tr>\n",
       "      <th>2</th>\n",
       "      <td>tt0050083</td>\n",
       "      <td>12 Angry Men</td>\n",
       "      <td>rw0060034</td>\n",
       "      <td>tfrizzell</td>\n",
       "      <td>What a Character-Study Is Meant to Be.\\n</td>\n",
       "      <td>2002-06-08</td>\n",
       "      <td>NaN</td>\n",
       "      <td>Intense courtroom drama which has 12 very diff...</td>\n",
       "      <td>246</td>\n",
       "      <td>282</td>\n",
       "    </tr>\n",
       "    <tr>\n",
       "      <th>3</th>\n",
       "      <td>tt0050083</td>\n",
       "      <td>12 Angry Men</td>\n",
       "      <td>rw3666418</td>\n",
       "      <td>mark.waltz</td>\n",
       "      <td>One of the great theatrical examples of what ...</td>\n",
       "      <td>2017-03-20</td>\n",
       "      <td>10.0</td>\n",
       "      <td>Theater at its best is practically impossible ...</td>\n",
       "      <td>42</td>\n",
       "      <td>46</td>\n",
       "    </tr>\n",
       "    <tr>\n",
       "      <th>4</th>\n",
       "      <td>tt0050083</td>\n",
       "      <td>12 Angry Men</td>\n",
       "      <td>rw5448378</td>\n",
       "      <td>henriquelrf</td>\n",
       "      <td>Dont judge by the age!\\n</td>\n",
       "      <td>2020-01-31</td>\n",
       "      <td>10.0</td>\n",
       "      <td>For a while I was not very receptive to watchi...</td>\n",
       "      <td>206</td>\n",
       "      <td>214</td>\n",
       "    </tr>\n",
       "  </tbody>\n",
       "</table>\n",
       "</div>"
      ],
      "text/plain": [
       "    movie_id   movie_title  review_id review_author  \\\n",
       "0  tt0050083  12 Angry Men  rw0060044          uds3   \n",
       "1  tt0050083  12 Angry Men  rw0060025          tedg   \n",
       "2  tt0050083  12 Angry Men  rw0060034     tfrizzell   \n",
       "3  tt0050083  12 Angry Men  rw3666418    mark.waltz   \n",
       "4  tt0050083  12 Angry Men  rw5448378   henriquelrf   \n",
       "\n",
       "                                        review_title review_date  \\\n",
       "0   The over-used term \"classic movie\" really com...  2002-08-12   \n",
       "1                                    No Dissonance\\n  2001-04-26   \n",
       "2           What a Character-Study Is Meant to Be.\\n  2002-06-08   \n",
       "3   One of the great theatrical examples of what ...  2017-03-20   \n",
       "4                           Dont judge by the age!\\n  2020-01-31   \n",
       "\n",
       "   review_rating                                        review_text  \\\n",
       "0            NaN  This once-in-a-generation masterpiece simply h...   \n",
       "1            NaN  This film deserves to be on anyone's list of t...   \n",
       "2            NaN  Intense courtroom drama which has 12 very diff...   \n",
       "3           10.0  Theater at its best is practically impossible ...   \n",
       "4           10.0  For a while I was not very receptive to watchi...   \n",
       "\n",
       "  review_helpfulness_upvote review_helpfulness_total  \n",
       "0                       321                      358  \n",
       "1                       355                      411  \n",
       "2                       246                      282  \n",
       "3                        42                       46  \n",
       "4                       206                      214  "
      ]
     },
     "execution_count": 7,
     "metadata": {},
     "output_type": "execute_result"
    }
   ],
   "source": [
    "data.head()"
   ]
  },
  {
   "cell_type": "code",
   "execution_count": 9,
   "id": "b13f4a0e",
   "metadata": {},
   "outputs": [
    {
     "data": {
      "text/html": [
       "<div>\n",
       "<style scoped>\n",
       "    .dataframe tbody tr th:only-of-type {\n",
       "        vertical-align: middle;\n",
       "    }\n",
       "\n",
       "    .dataframe tbody tr th {\n",
       "        vertical-align: top;\n",
       "    }\n",
       "\n",
       "    .dataframe thead th {\n",
       "        text-align: right;\n",
       "    }\n",
       "</style>\n",
       "<table border=\"1\" class=\"dataframe\">\n",
       "  <thead>\n",
       "    <tr style=\"text-align: right;\">\n",
       "      <th></th>\n",
       "      <th>movie_title</th>\n",
       "      <th>review_title</th>\n",
       "      <th>review_rating</th>\n",
       "      <th>review_text</th>\n",
       "    </tr>\n",
       "  </thead>\n",
       "  <tbody>\n",
       "    <tr>\n",
       "      <th>0</th>\n",
       "      <td>12 Angry Men</td>\n",
       "      <td>The over-used term \"classic movie\" really com...</td>\n",
       "      <td>NaN</td>\n",
       "      <td>This once-in-a-generation masterpiece simply h...</td>\n",
       "    </tr>\n",
       "    <tr>\n",
       "      <th>1</th>\n",
       "      <td>12 Angry Men</td>\n",
       "      <td>No Dissonance\\n</td>\n",
       "      <td>NaN</td>\n",
       "      <td>This film deserves to be on anyone's list of t...</td>\n",
       "    </tr>\n",
       "    <tr>\n",
       "      <th>2</th>\n",
       "      <td>12 Angry Men</td>\n",
       "      <td>What a Character-Study Is Meant to Be.\\n</td>\n",
       "      <td>NaN</td>\n",
       "      <td>Intense courtroom drama which has 12 very diff...</td>\n",
       "    </tr>\n",
       "    <tr>\n",
       "      <th>3</th>\n",
       "      <td>12 Angry Men</td>\n",
       "      <td>One of the great theatrical examples of what ...</td>\n",
       "      <td>10.0</td>\n",
       "      <td>Theater at its best is practically impossible ...</td>\n",
       "    </tr>\n",
       "    <tr>\n",
       "      <th>4</th>\n",
       "      <td>12 Angry Men</td>\n",
       "      <td>Dont judge by the age!\\n</td>\n",
       "      <td>10.0</td>\n",
       "      <td>For a while I was not very receptive to watchi...</td>\n",
       "    </tr>\n",
       "  </tbody>\n",
       "</table>\n",
       "</div>"
      ],
      "text/plain": [
       "    movie_title                                       review_title  \\\n",
       "0  12 Angry Men   The over-used term \"classic movie\" really com...   \n",
       "1  12 Angry Men                                    No Dissonance\\n   \n",
       "2  12 Angry Men           What a Character-Study Is Meant to Be.\\n   \n",
       "3  12 Angry Men   One of the great theatrical examples of what ...   \n",
       "4  12 Angry Men                           Dont judge by the age!\\n   \n",
       "\n",
       "   review_rating                                        review_text  \n",
       "0            NaN  This once-in-a-generation masterpiece simply h...  \n",
       "1            NaN  This film deserves to be on anyone's list of t...  \n",
       "2            NaN  Intense courtroom drama which has 12 very diff...  \n",
       "3           10.0  Theater at its best is practically impossible ...  \n",
       "4           10.0  For a while I was not very receptive to watchi...  "
      ]
     },
     "execution_count": 9,
     "metadata": {},
     "output_type": "execute_result"
    }
   ],
   "source": [
    "data = data[[\"movie_title\", \"review_title\", \"review_rating\", \"review_text\"]]\n",
    "data.head()"
   ]
  },
  {
   "cell_type": "code",
   "execution_count": 60,
   "id": "a0ad1865",
   "metadata": {},
   "outputs": [
    {
     "data": {
      "text/plain": [
       "250"
      ]
     },
     "execution_count": 60,
     "metadata": {},
     "output_type": "execute_result"
    }
   ],
   "source": [
    "unique = data['movie_title'].unique()\n",
    "len(unique)"
   ]
  },
  {
   "cell_type": "code",
   "execution_count": 52,
   "id": "27330d96",
   "metadata": {},
   "outputs": [
    {
     "name": "stdout",
     "output_type": "stream",
     "text": [
      "250\n"
     ]
    }
   ],
   "source": [
    "movies_left = list(data['movie_title'].unique())\n",
    "result = []\n",
    "\n",
    "for i in range(len(data)):\n",
    "    if data['movie_title'][i] in movies_left:\n",
    "        result.append(data.iloc[i].values)\n",
    "        movies_left.remove(data['movie_title'][i])\n",
    "    else:\n",
    "        continue\n",
    "print(len(result))"
   ]
  },
  {
   "cell_type": "code",
   "execution_count": 54,
   "id": "dea63eea",
   "metadata": {},
   "outputs": [
    {
     "name": "stdout",
     "output_type": "stream",
     "text": [
      "(250, 4)\n",
      "             movie_title                                       review_title  \\\n",
      "0           12 Angry Men   The over-used term \"classic movie\" really com...   \n",
      "1       12 Years a Slave       Slavery is an evil that should befall none\\n   \n",
      "2                   1917       \"He travels the fastest who travels alone\"\\n   \n",
      "3  2001: A Space Odyssey                         Unmatched accomplishment\\n   \n",
      "4               3 Idiots                        Wonderfully entertaining.\\n   \n",
      "\n",
      "   review_rating                                        review_text  \n",
      "0            NaN  This once-in-a-generation masterpiece simply h...  \n",
      "1           10.0  12 Years a Slave tells the true story of Solom...  \n",
      "2           10.0  There are some great WW1 films out there, the ...  \n",
      "3           10.0  Sometimes reading the user comments on IMDB fi...  \n",
      "4           10.0  It's hard for me to review this film, as I hav...  \n"
     ]
    }
   ],
   "source": [
    "columns = data.columns\n",
    "result_df = pd.DataFrame(result, columns=columns)\n",
    "print(result_df.shape)\n",
    "print(result_df.head())"
   ]
  },
  {
   "cell_type": "code",
   "execution_count": 58,
   "id": "c53089a4",
   "metadata": {},
   "outputs": [],
   "source": [
    "result_df[\"classic_1\"] = \"\"\n",
    "result_df[\"inspiring_1\"] = \"\"\n",
    "result_df[\"deep_1\"] = \"\"\n",
    "result_df[\"revolutionary_1\"] = \"\"\n",
    "result_df[\"nostalgic_1\"] = \"\"\n",
    "result_df[\"negative_1\"] = \"\"\n",
    "result_df[\"note_1\"] = \"\"\n",
    "result_df[\"classic_2\"] = \"\"\n",
    "result_df[\"inspiring_2\"] = \"\"\n",
    "result_df[\"deep_2\"] = \"\"\n",
    "result_df[\"revolutionary_2\"] = \"\"\n",
    "result_df[\"nostalgic_2\"] = \"\"\n",
    "result_df[\"negative_2\"] = \"\"\n",
    "result_df[\"note_2\"] = \"\""
   ]
  },
  {
   "cell_type": "code",
   "execution_count": 59,
   "id": "19267124",
   "metadata": {},
   "outputs": [
    {
     "name": "stdout",
     "output_type": "stream",
     "text": [
      "(250, 18)\n"
     ]
    }
   ],
   "source": []
  }
 ],
 "metadata": {
  "kernelspec": {
   "display_name": "Python 3 (ipykernel)",
   "language": "python",
   "name": "python3"
  },
  "language_info": {
   "codemirror_mode": {
    "name": "ipython",
    "version": 3
   },
   "file_extension": ".py",
   "mimetype": "text/x-python",
   "name": "python",
   "nbconvert_exporter": "python",
   "pygments_lexer": "ipython3",
   "version": "3.11.4"
  }
 },
 "nbformat": 4,
 "nbformat_minor": 5
}
